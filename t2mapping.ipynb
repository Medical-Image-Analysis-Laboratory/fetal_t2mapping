{
 "cells": [
  {
   "cell_type": "code",
   "execution_count": 1,
   "id": "e0ac2024-0108-4796-9f50-7b70dd15f1d2",
   "metadata": {},
   "outputs": [],
   "source": [
    "import numpy as np\n",
    "import matplotlib.pyplot as plt\n",
    "from scipy.optimize import curve_fit, leastsq\n",
    "import scipy.io\n",
    "import os\n",
    "import h5py\n",
    "\n",
    "from natsort import natsorted\n",
    "from scipy.ndimage import binary_fill_holes, binary_dilation, binary_erosion\n",
    "\n",
    "import matplotlib.pyplot as plt\n",
    "from mpl_toolkits.mplot3d import Axes3D\n",
    "from ipywidgets import interact, IntSlider, fixed\n",
    "\n",
    "import nibabel as nib\n",
    "\n",
    "from scipy.ndimage import gaussian_filter\n",
    "\n",
    "import SimpleITK as sitk\n",
    "\n",
    "import time"
   ]
  },
  {
   "cell_type": "markdown",
   "id": "4956818c-44ce-4bf2-bb05-f3cb96fe5aa3",
   "metadata": {},
   "source": [
    "## DATASETS"
   ]
  },
  {
   "cell_type": "code",
   "execution_count": 2,
   "id": "9ab5d31b-0436-4472-9ae9-7cc42b7c8d45",
   "metadata": {},
   "outputs": [],
   "source": [
    "# DataSet 1 - Final resize in 3D 1/PhaseResolution\n",
    "#FSE_Images = imresize(ifft2c(KSpace_noise), [size(KSpace,1), round(size(KSpace,2)/PhaseResolution)]);\n",
    "#Images_crop = imresize3(FSE_Images,1/PhaseResolution); 0.7\n",
    "data_set = '26w_no_motion_AX_no_shift_202311161901'"
   ]
  },
  {
   "cell_type": "code",
   "execution_count": 8,
   "id": "458ee6af-5e95-433b-b811-379f2f052493",
   "metadata": {},
   "outputs": [],
   "source": [
    "# DataSet 2 - Final resize in 3D 1/PhaseOversampling\n",
    "\n",
    "#FSE_Images = imresize(ifft2c(KSpace_noise), [size(KSpace,1), round(size(KSpace,2)/PhaseResolution)]);\n",
    "#Images_crop = imresize3(FSE_Images,1/PhaseOversampling); 0.8011\n",
    "data_set = '26w_no_motion_AX_no_shift_202311162155'"
   ]
  },
  {
   "cell_type": "code",
   "execution_count": 14,
   "id": "c3de821b-b273-46ae-9714-c5a2009e014f",
   "metadata": {},
   "outputs": [],
   "source": [
    "# DataSet 3 - No Resize\n",
    "\n",
    "#FSE_Images = imresize(ifft2c(KSpace_noise), [size(KSpace,1), round(size(KSpace,2)/PhaseResolution)]);\n",
    "#Images_crop = FSE_Images\n",
    "data_set = '26w_no_motion_AX_no_shift_202311162220'"
   ]
  },
  {
   "cell_type": "markdown",
   "id": "ffdb420c-f56b-4cf2-9343-c2d92f10a5ec",
   "metadata": {},
   "source": [
    "## DATA IMPORT"
   ]
  },
  {
   "cell_type": "code",
   "execution_count": 15,
   "id": "a4967b9e-a13e-4374-9ba1-03ebc0a0b1ee",
   "metadata": {},
   "outputs": [
    {
     "name": "stdout",
     "output_type": "stream",
     "text": [
      "Dimensions of the simulated t2w images: (135, 189, 48, 4) (x,y,slice,necho)\n",
      "Dimensions of the isotropic reference T2map: (135, 189, 155)\n",
      "TEeffs: [159 205 251 298]\n"
     ]
    }
   ],
   "source": [
    "# import FaBIAN output .mat file and get TEeff of each scan\n",
    "# variables:\n",
    "#  - t2w_images = 4d numpy array of dimensions (x,y,slice,necho)\n",
    "#  - TEeffs = \n",
    "\n",
    "\n",
    "\n",
    "#no motion\n",
    "path_dir = '/Users/margauxroulet/Desktop/MIAL/Data/FaBIAN/Haste_1_5T_no_motion/'\n",
    "path = path_dir + data_set\n",
    "data_folder = os.listdir(path)\n",
    "\n",
    "# Exclude .DS_Store file if it exists\n",
    "ds_store_file = '.DS_Store'\n",
    "if ds_store_file in data_folder:\n",
    "    data_folder.remove(ds_store_file)\n",
    "\n",
    "# Create hdf5_files list\n",
    "hdf5_files = [h5py.File(os.path.join(path, data), 'r') for data in data_folder]\n",
    "\n",
    "# Define a custom sorting key function\n",
    "def get_numeric_part(file):\n",
    "    return int(file.filename.split('Brain_')[1].split('_')[0]) # make it more robust to end date\n",
    "\n",
    "# Sort the list based on numerical order within filenames and extract TEeffs\n",
    "hdf5_files = sorted(hdf5_files, key=get_numeric_part)\n",
    "TEeffs = np.array([get_numeric_part(file) for file in hdf5_files])\n",
    "\n",
    "# Create an empty list to store 3D arrays\n",
    "array_list = []\n",
    "\n",
    "# Load each HDF5 file and append the 'FSE_Images' array to the list\n",
    "for file in hdf5_files:\n",
    "    fse_images = file['Images_crop'][:]\n",
    "    ref_t2map = file['ref_T2map'][:]\n",
    "    fse_images = np.transpose(fse_images, (2, 1, 0)) # as matlab is col-major and numpy row-major\n",
    "    ref_t2map = np.transpose(ref_t2map, (2, 1, 0))\n",
    "    fse_images = np.array(fse_images['real'] + 1j * fse_images['imag'])\n",
    "    fse_images = np.abs(fse_images)\n",
    "    array_list.append(fse_images)\n",
    "\n",
    "    #TEeffs.append(file['TEeff'][:]) # get echo time\n",
    "\n",
    "# Convert the list of 3D arrays to a 4D array\n",
    "t2w = np.stack(array_list, axis=-1)\n",
    "\n",
    "print(f\"Dimensions of the simulated t2w images: {t2w.shape} (x,y,slice,necho)\")\n",
    "print(f\"Dimensions of the isotropic reference T2map: {ref_t2map.shape}\")\n",
    "print(f\"TEeffs: {TEeffs}\")"
   ]
  },
  {
   "cell_type": "markdown",
   "id": "fef2936a-8366-424b-abce-10a995ba0347",
   "metadata": {},
   "source": [
    "## MASK"
   ]
  },
  {
   "cell_type": "code",
   "execution_count": 16,
   "id": "2e7ed088-bed1-4fd7-b580-b41b95101053",
   "metadata": {},
   "outputs": [],
   "source": [
    "# Build a 4D mask \n",
    "\n",
    "# Initialize the 4D output array\n",
    "threshold = 1.0 # for sufficient signal\n",
    "masks_4d = np.zeros(t2w.shape, dtype=np.uint8)\n",
    "\n",
    "# Iterate over scans with different echo time\n",
    "for j in range(masks_4d.shape[3]):\n",
    "    # Iterate over slices\n",
    "    for i in range(masks_4d.shape[2]):\n",
    "        # Read the binary image\n",
    "        BW = t2w[:,:,i,j] > threshold\n",
    "        BW = binary_fill_holes(BW)\n",
    "        BW = binary_dilation(BW, structure=np.ones((5, 5)))\n",
    "        BW = binary_erosion(BW, structure=np.ones((5, 5)))\n",
    "\n",
    "        # Store the result in the 4D array\n",
    "        masks_4d[:, :, i, j] = BW\n",
    "\n",
    "mask = np.sum(masks_4d,axis=3) > 0"
   ]
  },
  {
   "cell_type": "markdown",
   "id": "e4dbb442-db3c-4fa0-b56e-0665f3f12a1f",
   "metadata": {},
   "source": [
    "## MONO-EXPONENTIAL FITTING"
   ]
  },
  {
   "cell_type": "code",
   "execution_count": 17,
   "id": "06ff97a8-cb7f-4c04-8f5f-9cf4aabb282b",
   "metadata": {},
   "outputs": [
    {
     "name": "stdout",
     "output_type": "stream",
     "text": [
      "Time to fit (mono-exponential): 343.39 sec\n"
     ]
    }
   ],
   "source": [
    "# T2 mapping - mono-exponential fit - version with for loop\n",
    "\n",
    "# Define the exponential decay function\n",
    "def exponential_decay(t, A, T2, C):\n",
    "    return A * np.exp(-t / T2) + C\n",
    "\n",
    "\n",
    "# Initial guess and boundaries for the parameters\n",
    "initial_guess = [200, 70, 0.05]\n",
    "param_bounds = ([0, 0, 0], [1000, 2000, 0.2])\n",
    "\n",
    "# reshape for computation time\n",
    "reshaped_t2w = np.reshape(t2w, (-1, TEeffs.size))\n",
    "reshaped_mask = np.reshape(mask, (-1, 1))\n",
    "\n",
    "# Initialize an array to store the fitting parameters for each voxel\n",
    "t2map = np.zeros_like(reshaped_t2w[..., 0])\n",
    "\n",
    "mask_indices, _ = np.where(reshaped_mask)\n",
    "starttime = time.time()\n",
    "for voxel in mask_indices:\n",
    "    \n",
    "    # take only voxel intensity > 1\n",
    "    idx = reshaped_t2w[voxel,:] > 1\n",
    "    # Iterate over the masked indices and fit the exponential decay model (method: non-linear least square)\n",
    "    params, _ = curve_fit(exponential_decay, TEeffs, reshaped_t2w[voxel,:], p0=initial_guess, bounds = param_bounds)\n",
    "    # Extract the T2 values from the fitted parameters\n",
    "    t2map[voxel] = params[1]\n",
    "\n",
    "t2map = np.reshape(t2map, (t2w.shape[0],t2w.shape[1],t2w.shape[2]))\n",
    "print(f\"Time to fit (mono-exponential): {round(time.time()-starttime,2)} sec\")"
   ]
  },
  {
   "cell_type": "code",
   "execution_count": 18,
   "id": "4e810265-1f39-496d-8bbc-04df7c254cb8",
   "metadata": {},
   "outputs": [],
   "source": [
    "# Build an anisotropic resampled_ref_t2map based on t2map anisotropic volume\n",
    "# dim: ref_t2map 135x189x155  -->  resampled_ref_t2map: 135x189x48\n",
    "\n",
    "vectorized_t2map = t2map.reshape((-1, t2map.shape[2]))\n",
    "vectorized_ref_t2map = ref_t2map.reshape((-1,  ref_t2map.shape[2]))\n",
    "vectorized_mask = mask.reshape(-1,mask.shape[2])\n",
    "\n",
    "resampled_ref_t2map = np.zeros_like(vectorized_t2map)\n",
    "\n",
    "ds_factor = ref_t2map.shape[2]/t2map.shape[2]\n",
    "sl_th = int(np.floor(ds_factor/2))\n",
    "# iterate slice\n",
    "for slice in range(vectorized_t2map.shape[1]):\n",
    "    sl_c = int(round((slice+0.5)*ds_factor))\n",
    "    resampled_ref_t2map[:,slice] = np.mean(vectorized_ref_t2map[:,sl_c-sl_th:sl_c+sl_th], axis=1)\n",
    "\n",
    "resampled_ref_t2map = np.reshape(resampled_ref_t2map,t2map.shape)\n",
    "\n",
    "# Build a mask for the resampled ref t2map\n",
    "ref_t2map_mask = np.zeros_like(resampled_ref_t2map)\n",
    "\n",
    "# Iterate over slices\n",
    "for i in range(masks_4d.shape[2]):\n",
    "        # Read the binary image\n",
    "        BW = resampled_ref_t2map[:,:,i] > threshold\n",
    "        BW = binary_fill_holes(BW)\n",
    "        BW = binary_dilation(BW, structure=np.ones((3, 3)))\n",
    "        BW = binary_erosion(BW, structure=np.ones((3, 3)))\n",
    "\n",
    "        # Store the result in the 4D array\n",
    "        ref_t2map_mask[:, :, i] = BW\n"
   ]
  },
  {
   "cell_type": "code",
   "execution_count": 291,
   "id": "24cd9a01-ee5b-459a-8830-6dbf5b7f0ff5",
   "metadata": {},
   "outputs": [],
   "source": []
  },
  {
   "cell_type": "code",
   "execution_count": 139,
   "id": "13deedef-b825-44de-b16b-a2d2c3668362",
   "metadata": {},
   "outputs": [],
   "source": [
    "# to quantify error, evaluate where t2 values was computed (ref to mask) \n",
    "# and evaluate only for resampled_ref-t2map !=0\n",
    "reshaped_resampled_ref_t2map = np.reshape(resampled_ref_t2map,(-1,1))\n",
    "reshaped_t2map = np.reshape(t2map,(-1,1))\n",
    "err_matrix = np.zeros_like(reshaped_t2map)\n",
    "\n",
    "ref_mask_indices,_ = np.where(reshaped_resampled_ref_t2map > 0)\n",
    "\n",
    "for voxel in ref_mask_indices:\n",
    "        err_matrix[voxel] = np.abs((reshaped_resampled_ref_t2map[voxel] - reshaped_t2map[voxel])/reshaped_resampled_ref_t2map[voxel])\n",
    "\n",
    "err_matrix = np.reshape(err_matrix,t2map.shape)"
   ]
  },
  {
   "cell_type": "markdown",
   "id": "45fd2cda-e8fc-4c71-a6f6-df5fa729f109",
   "metadata": {},
   "source": [
    "## DATA EXPORT"
   ]
  },
  {
   "cell_type": "code",
   "execution_count": 19,
   "id": "b18b917c-627f-4a66-9036-00ba4214e43c",
   "metadata": {},
   "outputs": [
    {
     "name": "stdout",
     "output_type": "stream",
     "text": [
      "NumPy array saved as NIfTI file: /Users/margauxroulet/Desktop/MIAL/Data/t2mapping/Haste_1_5T_no_motion/26w_no_motion_AX_no_shift_202311162220/ref_t2map_in.nii.gz\n"
     ]
    }
   ],
   "source": [
    "# save data as .nii.gz images\n",
    "\n",
    "# Voxel sizes in millimeters (replace these with your actual voxel sizes)\n",
    "voxel_sizes = (1.101, 1.101, 3.2)\n",
    "\n",
    "# Create an affine matrix with identity rotation and translations\n",
    "affine_matrix = np.eye(4)\n",
    "\n",
    "# Set the voxel sizes along the diagonal (first three elements of the first three rows)\n",
    "affine_matrix[0, 0] = voxel_sizes[0]\n",
    "affine_matrix[1, 1] = voxel_sizes[1]\n",
    "affine_matrix[2, 2] = voxel_sizes[2]\n",
    "\n",
    "# Optionally, set the origin or translations (adjust these based on your image)\n",
    "affine_matrix[0, 3] = -0.5 * voxel_sizes[0] * t2map.shape[0]\n",
    "affine_matrix[1, 3] = -0.5 * voxel_sizes[1] * t2map.shape[1]\n",
    "affine_matrix[2, 3] = -0.5 * voxel_sizes[2] * t2map.shape[2]\n",
    "\n",
    "\n",
    "# Voxel sizes in millimeters (replace these with your actual voxel sizes)\n",
    "voxel_sizes2 = (1.1, 1.1, 1)\n",
    "\n",
    "# Create an affine matrix with identity rotation and translations\n",
    "affine_matrix2 = np.eye(4)\n",
    "\n",
    "# Set the voxel sizes along the diagonal (first three elements of the first three rows)\n",
    "affine_matrix2[0, 0] = voxel_sizes2[0]\n",
    "affine_matrix2[1, 1] = voxel_sizes2[1]\n",
    "affine_matrix2[2, 2] = voxel_sizes2[2]\n",
    "\n",
    "# Optionally, set the origin or translations (adjust these based on your image)\n",
    "affine_matrix2[0, 3] = -0.5 * voxel_sizes2[0] * ref_t2map.shape[0]\n",
    "affine_matrix2[1, 3] = -0.5 * voxel_sizes2[1] * ref_t2map.shape[1]\n",
    "affine_matrix2[2, 3] = -0.5 * voxel_sizes2[2] * ref_t2map.shape[2]\n",
    "\n",
    "\n",
    "# Create a NIfTI image from the NumPy array\n",
    "nifti_image_t2map =          nib.Nifti1Image(t2map, affine_matrix)  # Assuming identity affine matrix\n",
    "nifti_image_mask =           nib.Nifti1Image(mask.astype(float), affine_matrix)  # Assuming identity affine matrix\n",
    "nifti_image_ref_t2map =      nib.Nifti1Image(resampled_ref_t2map, affine_matrix)  # Assuming identity affine matrix\n",
    "nifti_image_ref_t2map_mask = nib.Nifti1Image(ref_t2map_mask.astype(float), affine_matrix)  # Assuming identity affine matrix\n",
    "nifti_image_ref_t2map_in =   nib.Nifti1Image(ref_t2map, affine_matrix2)  # Assuming identity affine matrix\n",
    "\n",
    "# Save the NIfTI image to a file\n",
    "path_dir_out = '/Users/margauxroulet/Desktop/MIAL/Data/t2mapping/Haste_1_5T_no_motion/'\n",
    "output_file_path = path_dir_out + data_set +'/t2map.nii.gz'  # Provide the desired output file path\n",
    "nib.save(nifti_image_t2map, output_file_path)\n",
    "output_file_path = path_dir_out + data_set +'/t2map_mask.nii.gz'  # Provide the desired output file path\n",
    "nib.save(nifti_image_mask, output_file_path)\n",
    "output_file_path = path_dir_out + data_set +'/ref_t2map.nii.gz'  # Provide the desired output file path\n",
    "nib.save(nifti_image_ref_t2map, output_file_path)\n",
    "output_file_path = path_dir_out + data_set +'/ref_t2map_mask.nii.gz'  # Provide the desired output file path\n",
    "nib.save(nifti_image_ref_t2map_mask, output_file_path)\n",
    "output_file_path = path_dir_out + data_set +'/ref_t2map_in.nii.gz'  # Provide the desired output file path\n",
    "nib.save(nifti_image_ref_t2map_in, output_file_path)\n",
    "\n",
    "print(f\"NumPy array saved as NIfTI file: {output_file_path}\")"
   ]
  },
  {
   "cell_type": "markdown",
   "id": "2199b388-e3f6-4917-97f9-4f7d2d7eda6a",
   "metadata": {},
   "source": [
    "## Quick Slice Viewer"
   ]
  },
  {
   "cell_type": "code",
   "execution_count": 171,
   "id": "bb506907-ad96-4114-bed5-37cc42450133",
   "metadata": {},
   "outputs": [
    {
     "name": "stdout",
     "output_type": "stream",
     "text": [
      "0.0\n",
      "2000.0\n"
     ]
    },
    {
     "data": {
      "application/vnd.jupyter.widget-view+json": {
       "model_id": "c4a293eb77fe45429edd514f6d477fd8",
       "version_major": 2,
       "version_minor": 0
      },
      "text/plain": [
       "interactive(children=(Dropdown(description='axis', options=('xy',), value='xy'), IntSlider(value=0, descriptio…"
      ]
     },
     "metadata": {},
     "output_type": "display_data"
    },
    {
     "data": {
      "text/plain": [
       "<function __main__.show_slice(volume, axis, slice_num)>"
      ]
     },
     "execution_count": 171,
     "metadata": {},
     "output_type": "execute_result"
    }
   ],
   "source": [
    "#volume = t2map\n",
    "#volume = t2w[:,:,:,3]\n",
    "#volume = err_matrix\n",
    "#volume = resampled_ref_t2map\n",
    "volume = ref_t2map\n",
    "\n",
    "# Get the global min and max values for the entire volume\n",
    "global_min = volume.min()\n",
    "global_max = volume.max()\n",
    "\n",
    "def show_slice(volume, axis, slice_num):\n",
    "    fig = plt.figure(figsize=(8, 8))\n",
    "\n",
    "    if axis == 'xy':\n",
    "        plt.imshow(volume[:, :, slice_num], cmap='magma', origin='lower', vmin=global_min, vmax=global_max)\n",
    "        plt.title(f'XY Slice {slice_num}')\n",
    "    elif axis == 'xz':\n",
    "        plt.imshow(volume[:, slice_num, :].T, cmap='magma', origin='lower', vmin=global_min, vmax=global_max)\n",
    "        plt.title(f'XZ Slice {slice_num}')\n",
    "    elif axis == 'yz':\n",
    "        plt.imshow(volume[slice_num, :, :].T, cmap='magma', origin='lower', vmin=global_min, vmax=global_max)\n",
    "        plt.title(f'YZ Slice {slice_num}')\n",
    "\n",
    "\n",
    "    # Add color scale bar\n",
    "    cbar = plt.colorbar()\n",
    "    cbar.set_label('Intensity')\n",
    "\n",
    "    plt.show()\n",
    "\n",
    "# Use ipywidgets interact to create an interactive viewer\n",
    "interact(show_slice, volume=fixed(volume), axis=['xy'], slice_num=IntSlider(min=0, max=volume.shape[2]-1, step=1, value=0))"
   ]
  },
  {
   "cell_type": "markdown",
   "id": "bb1e5907-2b46-4d9e-a6f8-4566421a48f4",
   "metadata": {},
   "source": [
    "## Quick Mono-exponential fitting evaluation"
   ]
  },
  {
   "cell_type": "code",
   "execution_count": 281,
   "id": "3174ce1d-34f7-479a-bfe6-2edd281ffe00",
   "metadata": {},
   "outputs": [
    {
     "name": "stdout",
     "output_type": "stream",
     "text": [
      "voxel: 576167\n",
      "T2 values at TEs : [3.1104827 2.2655656 1.8323468 1.6999586]\n",
      "Fitted T2: 187.7801277960528\n"
     ]
    },
    {
     "data": {
      "image/png": "[encoded data removed]",
      "text/plain": [
       "<Figure size 640x480 with 1 Axes>"
      ]
     },
     "metadata": {},
     "output_type": "display_data"
    }
   ],
   "source": [
    "# TEST ONLY ----- T2 mapping with a mono exponential fit\n",
    "\n",
    "# Define the exponential decay function\n",
    "def exponential_decay(t, A, T2, C):\n",
    "    return A * np.exp(-t / T2) + C\n",
    "\n",
    "# reshape for computation time\n",
    "reshaped_t2w = np.reshape(t2w, (-1, TEeffs.size))\n",
    "reshaped_mask = np.reshape(mask, (-1, 1))\n",
    "\n",
    "mask_indices, _ = np.where(reshaped_mask)\n",
    "\n",
    "voxel = np.random.choice(mask_indices)\n",
    "print(f\"voxel: {voxel}\")\n",
    "print(f\"T2 values at TEs : {reshaped_t2w[voxel,:]}\")\n",
    "idx = reshaped_t2w[voxel,:] > 1\n",
    "# Perform the exponential decay fit\n",
    "params, _ = curve_fit(exponential_decay, TEeffs, reshaped_t2w[voxel,:], p0=initial_guess, bounds = param_bounds)\n",
    "\n",
    "# Extract the fitted parameters\n",
    "A_fit, T2_fit, C_fit = params\n",
    "\n",
    "# Print the fitted T2 value\n",
    "print(f\"Fitted T2: {T2_fit}\")\n",
    "\n",
    "# Plot the original data and the fitted curve\n",
    "plt.scatter(TEeffs[idx], reshaped_t2w[voxel,:][idx], label='Original Data')\n",
    "plt.plot(TEeffs, exponential_decay(TEeffs, A_fit, T2_fit, C_fit), label='Exponential Decay Fit', color='red')\n",
    "plt.legend()\n",
    "plt.xlabel('Time')\n",
    "plt.ylabel('Amplitude')\n",
    "plt.show()"
   ]
  },
  {
   "cell_type": "code",
   "execution_count": null,
   "id": "eeb5ef10-199a-4d51-9e89-6403891081d0",
   "metadata": {},
   "outputs": [],
   "source": [
    "\n"
   ]
  }
 ],
 "metadata": {
  "kernelspec": {
   "display_name": "Python (gomar)",
   "language": "python",
   "name": "gomar"
  },
  "language_info": {
   "codemirror_mode": {
    "name": "ipython",
    "version": 3
   },
   "file_extension": ".py",
   "mimetype": "text/x-python",
   "name": "python",
   "nbconvert_exporter": "python",
   "pygments_lexer": "ipython3",
   "version": "3.11.6"
  }
 },
 "nbformat": 4,
 "nbformat_minor": 5
}
